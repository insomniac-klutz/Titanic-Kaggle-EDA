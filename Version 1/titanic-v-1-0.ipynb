{
 "cells": [
  {
   "cell_type": "code",
   "execution_count": 1,
   "metadata": {
    "_cell_guid": "b1076dfc-b9ad-4769-8c92-a6c4dae69d19",
    "_uuid": "8f2839f25d086af736a60e9eeb907d3b93b6e0e5"
   },
   "outputs": [
    {
     "name": "stdout",
     "output_type": "stream",
     "text": [
      "/kaggle/input/titanic/train.csv\n",
      "/kaggle/input/titanic/gender_submission.csv\n",
      "/kaggle/input/titanic/test.csv\n"
     ]
    }
   ],
   "source": [
    "# This Python 3 environment comes with many helpful analytics libraries installed\n",
    "# It is defined by the kaggle/python Docker image: https://github.com/kaggle/docker-python\n",
    "# For example, here's several helpful packages to load\n",
    "\n",
    "import numpy as np # linear algebra\n",
    "import pandas as pd # data processing, CSV file I/O (e.g. pd.read_csv)\n",
    "\n",
    "# Input data files are available in the read-only \"../input/\" directory\n",
    "# For example, running this (by clicking run or pressing Shift+Enter) will list all files under the input directory\n",
    "\n",
    "import os\n",
    "for dirname, _, filenames in os.walk('/kaggle/input'):\n",
    "    for filename in filenames:\n",
    "        print(os.path.join(dirname, filename))\n",
    "\n",
    "# You can write up to 5GB to the current directory (/kaggle/working/) that gets preserved as output when you create a version using \"Save & Run All\" \n",
    "# You can also write temporary files to /kaggle/temp/, but they won't be saved outside of the current session"
   ]
  },
  {
   "cell_type": "code",
   "execution_count": 2,
   "metadata": {
    "_cell_guid": "79c7e3d0-c299-4dcb-8224-4455121ee9b0",
    "_uuid": "d629ff2d2480ee46fbb7e2d37f6b5fab8052498a"
   },
   "outputs": [
    {
     "data": {
      "text/html": [
       "<div>\n",
       "<style scoped>\n",
       "    .dataframe tbody tr th:only-of-type {\n",
       "        vertical-align: middle;\n",
       "    }\n",
       "\n",
       "    .dataframe tbody tr th {\n",
       "        vertical-align: top;\n",
       "    }\n",
       "\n",
       "    .dataframe thead th {\n",
       "        text-align: right;\n",
       "    }\n",
       "</style>\n",
       "<table border=\"1\" class=\"dataframe\">\n",
       "  <thead>\n",
       "    <tr style=\"text-align: right;\">\n",
       "      <th></th>\n",
       "      <th>PassengerId</th>\n",
       "      <th>Survived</th>\n",
       "      <th>Pclass</th>\n",
       "      <th>Name</th>\n",
       "      <th>Sex</th>\n",
       "      <th>Age</th>\n",
       "      <th>SibSp</th>\n",
       "      <th>Parch</th>\n",
       "      <th>Ticket</th>\n",
       "      <th>Fare</th>\n",
       "      <th>Cabin</th>\n",
       "      <th>Embarked</th>\n",
       "    </tr>\n",
       "  </thead>\n",
       "  <tbody>\n",
       "    <tr>\n",
       "      <th>0</th>\n",
       "      <td>1</td>\n",
       "      <td>0</td>\n",
       "      <td>3</td>\n",
       "      <td>Braund, Mr. Owen Harris</td>\n",
       "      <td>male</td>\n",
       "      <td>22.0</td>\n",
       "      <td>1</td>\n",
       "      <td>0</td>\n",
       "      <td>A/5 21171</td>\n",
       "      <td>7.2500</td>\n",
       "      <td>NaN</td>\n",
       "      <td>S</td>\n",
       "    </tr>\n",
       "    <tr>\n",
       "      <th>1</th>\n",
       "      <td>2</td>\n",
       "      <td>1</td>\n",
       "      <td>1</td>\n",
       "      <td>Cumings, Mrs. John Bradley (Florence Briggs Th...</td>\n",
       "      <td>female</td>\n",
       "      <td>38.0</td>\n",
       "      <td>1</td>\n",
       "      <td>0</td>\n",
       "      <td>PC 17599</td>\n",
       "      <td>71.2833</td>\n",
       "      <td>C85</td>\n",
       "      <td>C</td>\n",
       "    </tr>\n",
       "    <tr>\n",
       "      <th>2</th>\n",
       "      <td>3</td>\n",
       "      <td>1</td>\n",
       "      <td>3</td>\n",
       "      <td>Heikkinen, Miss. Laina</td>\n",
       "      <td>female</td>\n",
       "      <td>26.0</td>\n",
       "      <td>0</td>\n",
       "      <td>0</td>\n",
       "      <td>STON/O2. 3101282</td>\n",
       "      <td>7.9250</td>\n",
       "      <td>NaN</td>\n",
       "      <td>S</td>\n",
       "    </tr>\n",
       "    <tr>\n",
       "      <th>3</th>\n",
       "      <td>4</td>\n",
       "      <td>1</td>\n",
       "      <td>1</td>\n",
       "      <td>Futrelle, Mrs. Jacques Heath (Lily May Peel)</td>\n",
       "      <td>female</td>\n",
       "      <td>35.0</td>\n",
       "      <td>1</td>\n",
       "      <td>0</td>\n",
       "      <td>113803</td>\n",
       "      <td>53.1000</td>\n",
       "      <td>C123</td>\n",
       "      <td>S</td>\n",
       "    </tr>\n",
       "    <tr>\n",
       "      <th>4</th>\n",
       "      <td>5</td>\n",
       "      <td>0</td>\n",
       "      <td>3</td>\n",
       "      <td>Allen, Mr. William Henry</td>\n",
       "      <td>male</td>\n",
       "      <td>35.0</td>\n",
       "      <td>0</td>\n",
       "      <td>0</td>\n",
       "      <td>373450</td>\n",
       "      <td>8.0500</td>\n",
       "      <td>NaN</td>\n",
       "      <td>S</td>\n",
       "    </tr>\n",
       "  </tbody>\n",
       "</table>\n",
       "</div>"
      ],
      "text/plain": [
       "   PassengerId  Survived  Pclass  \\\n",
       "0            1         0       3   \n",
       "1            2         1       1   \n",
       "2            3         1       3   \n",
       "3            4         1       1   \n",
       "4            5         0       3   \n",
       "\n",
       "                                                Name     Sex   Age  SibSp  \\\n",
       "0                            Braund, Mr. Owen Harris    male  22.0      1   \n",
       "1  Cumings, Mrs. John Bradley (Florence Briggs Th...  female  38.0      1   \n",
       "2                             Heikkinen, Miss. Laina  female  26.0      0   \n",
       "3       Futrelle, Mrs. Jacques Heath (Lily May Peel)  female  35.0      1   \n",
       "4                           Allen, Mr. William Henry    male  35.0      0   \n",
       "\n",
       "   Parch            Ticket     Fare Cabin Embarked  \n",
       "0      0         A/5 21171   7.2500   NaN        S  \n",
       "1      0          PC 17599  71.2833   C85        C  \n",
       "2      0  STON/O2. 3101282   7.9250   NaN        S  \n",
       "3      0            113803  53.1000  C123        S  \n",
       "4      0            373450   8.0500   NaN        S  "
      ]
     },
     "execution_count": 2,
     "metadata": {},
     "output_type": "execute_result"
    }
   ],
   "source": [
    "train_data = pd.read_csv(\"/kaggle/input/titanic/train.csv\")\n",
    "train_data.head()"
   ]
  },
  {
   "cell_type": "code",
   "execution_count": 3,
   "metadata": {},
   "outputs": [
    {
     "data": {
      "text/html": [
       "<div>\n",
       "<style scoped>\n",
       "    .dataframe tbody tr th:only-of-type {\n",
       "        vertical-align: middle;\n",
       "    }\n",
       "\n",
       "    .dataframe tbody tr th {\n",
       "        vertical-align: top;\n",
       "    }\n",
       "\n",
       "    .dataframe thead th {\n",
       "        text-align: right;\n",
       "    }\n",
       "</style>\n",
       "<table border=\"1\" class=\"dataframe\">\n",
       "  <thead>\n",
       "    <tr style=\"text-align: right;\">\n",
       "      <th></th>\n",
       "      <th>PassengerId</th>\n",
       "      <th>Pclass</th>\n",
       "      <th>Name</th>\n",
       "      <th>Sex</th>\n",
       "      <th>Age</th>\n",
       "      <th>SibSp</th>\n",
       "      <th>Parch</th>\n",
       "      <th>Ticket</th>\n",
       "      <th>Fare</th>\n",
       "      <th>Cabin</th>\n",
       "      <th>Embarked</th>\n",
       "    </tr>\n",
       "  </thead>\n",
       "  <tbody>\n",
       "    <tr>\n",
       "      <th>0</th>\n",
       "      <td>892</td>\n",
       "      <td>3</td>\n",
       "      <td>Kelly, Mr. James</td>\n",
       "      <td>male</td>\n",
       "      <td>34.5</td>\n",
       "      <td>0</td>\n",
       "      <td>0</td>\n",
       "      <td>330911</td>\n",
       "      <td>7.8292</td>\n",
       "      <td>NaN</td>\n",
       "      <td>Q</td>\n",
       "    </tr>\n",
       "    <tr>\n",
       "      <th>1</th>\n",
       "      <td>893</td>\n",
       "      <td>3</td>\n",
       "      <td>Wilkes, Mrs. James (Ellen Needs)</td>\n",
       "      <td>female</td>\n",
       "      <td>47.0</td>\n",
       "      <td>1</td>\n",
       "      <td>0</td>\n",
       "      <td>363272</td>\n",
       "      <td>7.0000</td>\n",
       "      <td>NaN</td>\n",
       "      <td>S</td>\n",
       "    </tr>\n",
       "    <tr>\n",
       "      <th>2</th>\n",
       "      <td>894</td>\n",
       "      <td>2</td>\n",
       "      <td>Myles, Mr. Thomas Francis</td>\n",
       "      <td>male</td>\n",
       "      <td>62.0</td>\n",
       "      <td>0</td>\n",
       "      <td>0</td>\n",
       "      <td>240276</td>\n",
       "      <td>9.6875</td>\n",
       "      <td>NaN</td>\n",
       "      <td>Q</td>\n",
       "    </tr>\n",
       "    <tr>\n",
       "      <th>3</th>\n",
       "      <td>895</td>\n",
       "      <td>3</td>\n",
       "      <td>Wirz, Mr. Albert</td>\n",
       "      <td>male</td>\n",
       "      <td>27.0</td>\n",
       "      <td>0</td>\n",
       "      <td>0</td>\n",
       "      <td>315154</td>\n",
       "      <td>8.6625</td>\n",
       "      <td>NaN</td>\n",
       "      <td>S</td>\n",
       "    </tr>\n",
       "    <tr>\n",
       "      <th>4</th>\n",
       "      <td>896</td>\n",
       "      <td>3</td>\n",
       "      <td>Hirvonen, Mrs. Alexander (Helga E Lindqvist)</td>\n",
       "      <td>female</td>\n",
       "      <td>22.0</td>\n",
       "      <td>1</td>\n",
       "      <td>1</td>\n",
       "      <td>3101298</td>\n",
       "      <td>12.2875</td>\n",
       "      <td>NaN</td>\n",
       "      <td>S</td>\n",
       "    </tr>\n",
       "  </tbody>\n",
       "</table>\n",
       "</div>"
      ],
      "text/plain": [
       "   PassengerId  Pclass                                          Name     Sex  \\\n",
       "0          892       3                              Kelly, Mr. James    male   \n",
       "1          893       3              Wilkes, Mrs. James (Ellen Needs)  female   \n",
       "2          894       2                     Myles, Mr. Thomas Francis    male   \n",
       "3          895       3                              Wirz, Mr. Albert    male   \n",
       "4          896       3  Hirvonen, Mrs. Alexander (Helga E Lindqvist)  female   \n",
       "\n",
       "    Age  SibSp  Parch   Ticket     Fare Cabin Embarked  \n",
       "0  34.5      0      0   330911   7.8292   NaN        Q  \n",
       "1  47.0      1      0   363272   7.0000   NaN        S  \n",
       "2  62.0      0      0   240276   9.6875   NaN        Q  \n",
       "3  27.0      0      0   315154   8.6625   NaN        S  \n",
       "4  22.0      1      1  3101298  12.2875   NaN        S  "
      ]
     },
     "execution_count": 3,
     "metadata": {},
     "output_type": "execute_result"
    }
   ],
   "source": [
    "test_data = pd.read_csv(\"/kaggle/input/titanic/test.csv\")\n",
    "test_data.head()"
   ]
  },
  {
   "cell_type": "code",
   "execution_count": 4,
   "metadata": {},
   "outputs": [
    {
     "name": "stdout",
     "output_type": "stream",
     "text": [
      "% of women who survived: 0.7420382165605095\n"
     ]
    }
   ],
   "source": [
    "women = train_data.loc[train_data.Sex == 'female'][\"Survived\"]\n",
    "rate_women = sum(women)/len(women)\n",
    "\n",
    "print(\"% of women who survived:\", rate_women)"
   ]
  },
  {
   "cell_type": "code",
   "execution_count": 5,
   "metadata": {},
   "outputs": [
    {
     "name": "stdout",
     "output_type": "stream",
     "text": [
      "% of men who survived: 0.18890814558058924\n"
     ]
    }
   ],
   "source": [
    "men = train_data.loc[train_data.Sex == 'male'][\"Survived\"]\n",
    "rate_men = sum(men)/len(men)\n",
    "\n",
    "print(\"% of men who survived:\", rate_men)"
   ]
  },
  {
   "cell_type": "code",
   "execution_count": 6,
   "metadata": {},
   "outputs": [
    {
     "data": {
      "text/plain": [
       "Index(['PassengerId', 'Survived', 'Pclass', 'Name', 'Sex', 'Age', 'SibSp',\n",
       "       'Parch', 'Ticket', 'Fare', 'Cabin', 'Embarked'],\n",
       "      dtype='object')"
      ]
     },
     "execution_count": 6,
     "metadata": {},
     "output_type": "execute_result"
    }
   ],
   "source": [
    "train_data.columns"
   ]
  },
  {
   "cell_type": "code",
   "execution_count": 7,
   "metadata": {},
   "outputs": [
    {
     "name": "stdout",
     "output_type": "stream",
     "text": [
      "<class 'pandas.core.frame.DataFrame'>\n",
      "RangeIndex: 891 entries, 0 to 890\n",
      "Data columns (total 7 columns):\n",
      " #   Column      Non-Null Count  Dtype  \n",
      "---  ------      --------------  -----  \n",
      " 0   Pclass      891 non-null    int64  \n",
      " 1   SibSp       891 non-null    int64  \n",
      " 2   Parch       891 non-null    int64  \n",
      " 3   Age         714 non-null    float64\n",
      " 4   Fare        891 non-null    float64\n",
      " 5   Sex_female  891 non-null    uint8  \n",
      " 6   Sex_male    891 non-null    uint8  \n",
      "dtypes: float64(2), int64(3), uint8(2)\n",
      "memory usage: 36.7 KB\n",
      "None\n",
      "<class 'pandas.core.frame.DataFrame'>\n",
      "RangeIndex: 418 entries, 0 to 417\n",
      "Data columns (total 7 columns):\n",
      " #   Column      Non-Null Count  Dtype  \n",
      "---  ------      --------------  -----  \n",
      " 0   Pclass      418 non-null    int64  \n",
      " 1   SibSp       418 non-null    int64  \n",
      " 2   Parch       418 non-null    int64  \n",
      " 3   Age         332 non-null    float64\n",
      " 4   Fare        417 non-null    float64\n",
      " 5   Sex_female  418 non-null    uint8  \n",
      " 6   Sex_male    418 non-null    uint8  \n",
      "dtypes: float64(2), int64(3), uint8(2)\n",
      "memory usage: 17.3 KB\n",
      "None\n"
     ]
    }
   ],
   "source": [
    "leaves=[10,16,30,35,40,49,55,50]\n",
    "\n",
    "y = train_data[\"Survived\"]\n",
    "\n",
    "features = [\"Pclass\", \"Sex\", \"SibSp\", \"Parch\", \"Age\",\"Fare\"]\n",
    "\n",
    "X = pd.get_dummies(train_data[features])\n",
    "X_test = pd.get_dummies(test_data[features])\n",
    "\n",
    "print(X.info())\n",
    "print(X_test.info())"
   ]
  },
  {
   "cell_type": "code",
   "execution_count": 8,
   "metadata": {},
   "outputs": [],
   "source": [
    "from xgboost import XGBClassifier\n",
    "from sklearn.model_selection import train_test_split\n",
    "from sklearn.metrics import mean_absolute_error\n",
    "from sklearn.impute import KNNImputer\n",
    "from sklearn.impute import SimpleImputer\n",
    "from sklearn.metrics import accuracy_score\n",
    "from sklearn.compose import ColumnTransformer\n",
    "from sklearn.pipeline import Pipeline\n",
    "from sklearn.model_selection import cross_val_score\n",
    "from sklearn.preprocessing import OneHotEncoder"
   ]
  },
  {
   "cell_type": "code",
   "execution_count": 9,
   "metadata": {},
   "outputs": [
    {
     "name": "stdout",
     "output_type": "stream",
     "text": [
      "Pclass          0\n",
      "SibSp           0\n",
      "Parch           0\n",
      "Age           263\n",
      "Fare            1\n",
      "Sex_female      0\n",
      "Sex_male        0\n",
      "dtype: int64\n",
      " Numerical Columns  ['Age', 'Fare'] \n",
      " Categorical Columns []\n"
     ]
    }
   ],
   "source": [
    "na_list=X.isna().sum() + X_test.isna().sum()\n",
    "print(na_list)\n",
    "\n",
    "num_cols=[col for col in X if X[col].dtype in ['int64','float64']  and na_list[col]>0]\n",
    "cat_cols=[col for col in X_test if X[col].dtype in ['object']]\n",
    "\n",
    "print(\" Numerical Columns \",num_cols,\"\\n Categorical Columns\",cat_cols)"
   ]
  },
  {
   "cell_type": "code",
   "execution_count": 10,
   "metadata": {},
   "outputs": [
    {
     "name": "stdout",
     "output_type": "stream",
     "text": [
      "0.820627802690583\n"
     ]
    }
   ],
   "source": [
    "X_train,X_valid,y_train,y_valid=train_test_split(X,y,random_state=21)\n",
    "\n",
    "benchmark_model=XGBClassifier(random_state=21)\n",
    "\n",
    "pip_b=Pipeline(steps=[(\"benchmark_model\",benchmark_model)])\n",
    "\n",
    "pip_b.fit(X_train,y_train)\n",
    "pred=pip_b.predict(X_valid)\n",
    "\n",
    "acc=accuracy_score(y_valid,pred)\n",
    "print(acc)"
   ]
  },
  {
   "cell_type": "code",
   "execution_count": 11,
   "metadata": {},
   "outputs": [
    {
     "name": "stdout",
     "output_type": "stream",
     "text": [
      "For learning rate = 0.003 and tress = 100 the mean of scores [75.41899441 79.21348315 84.83146067 80.33707865 83.70786517] is 80.70177641077146\n",
      "For learning rate = 0.004 and tress = 100 the mean of scores [76.53631285 79.7752809  85.95505618 81.46067416 83.70786517] is 81.48703785073128\n",
      "For learning rate = 0.005 and tress = 100 the mean of scores [77.09497207 79.21348315 85.95505618 81.46067416 83.70786517] is 81.4864101437449\n",
      "For learning rate = 0.006 and tress = 100 the mean of scores [77.09497207 79.21348315 85.39325843 81.46067416 84.83146067] is 81.5987696943067\n",
      "For learning rate = 0.007 and tress = 100 the mean of scores [77.09497207 79.21348315 86.51685393 79.7752809  85.39325843] is 81.5987696943067\n",
      "For learning rate = 0.003 and tress = 300 the mean of scores [77.09497207 80.33707865 86.51685393 79.21348315 85.95505618] is 81.8234887954303\n",
      "For learning rate = 0.004 and tress = 300 the mean of scores [78.2122905  80.33707865 87.64044944 79.7752809  86.51685393] is 82.49639068482831\n",
      "For learning rate = 0.005 and tress = 300 the mean of scores [78.77094972 80.8988764  85.95505618 79.21348315 86.51685393] is 82.27104387671834\n",
      "For learning rate = 0.006 and tress = 300 the mean of scores [79.88826816 80.8988764  86.51685393 79.21348315 85.39325843] is 82.38214801330739\n",
      "For learning rate = 0.007 and tress = 300 the mean of scores [80.44692737 81.46067416 86.51685393 80.33707865 85.39325843] is 82.8309585085682\n",
      "For learning rate = 0.003 and tress = 500 the mean of scores [78.77094972 80.8988764  85.95505618 79.21348315 86.51685393] is 82.27104387671834\n",
      "For learning rate = 0.004 and tress = 500 the mean of scores [80.44692737 81.46067416 86.51685393 80.33707865 84.83146067] is 82.71859895800641\n",
      "For learning rate = 0.005 and tress = 500 the mean of scores [80.44692737 80.8988764  86.51685393 80.33707865 85.39325843] is 82.7185989580064\n",
      "For learning rate = 0.006 and tress = 500 the mean of scores [80.44692737 80.8988764  85.95505618 82.02247191 85.39325843] is 82.94331805913\n",
      "For learning rate = 0.007 and tress = 500 the mean of scores [80.44692737 81.46067416 86.51685393 81.46067416 85.39325843] is 83.0556776096918\n",
      "For learning rate = 0.003 and tress = 750 the mean of scores [80.44692737 81.46067416 86.51685393 80.33707865 85.39325843] is 82.8309585085682\n",
      "For learning rate = 0.004 and tress = 750 the mean of scores [81.00558659 80.8988764  85.95505618 82.02247191 85.39325843] is 83.0550499027054\n",
      "For learning rate = 0.005 and tress = 750 the mean of scores [80.44692737 81.46067416 86.51685393 81.46067416 85.95505618] is 83.16803716025359\n",
      "For learning rate = 0.006 and tress = 750 the mean of scores [80.44692737 82.02247191 86.51685393 80.33707865 85.39325843] is 82.94331805913\n",
      "For learning rate = 0.007 and tress = 750 the mean of scores [79.88826816 82.02247191 87.64044944 79.7752809  85.95505618] is 83.05630531667818\n",
      "For learning rate = 0.003 and tress = 900 the mean of scores [80.44692737 80.8988764  85.95505618 80.33707865 85.39325843] is 82.60623940744459\n",
      "For learning rate = 0.004 and tress = 900 the mean of scores [80.44692737 81.46067416 86.51685393 81.46067416 85.39325843] is 83.0556776096918\n",
      "For learning rate = 0.005 and tress = 900 the mean of scores [81.00558659 82.02247191 86.51685393 80.33707865 85.39325843] is 83.0550499027054\n",
      "For learning rate = 0.006 and tress = 900 the mean of scores [79.88826816 82.58426966 87.07865169 79.7752809  84.83146067] is 82.83158621555458\n",
      "For learning rate = 0.007 and tress = 900 the mean of scores [81.00558659 82.02247191 87.07865169 79.21348315 84.83146067] is 82.83033080158182\n",
      "For learning rate = 0.003 and tress = 1000 the mean of scores [81.00558659 81.46067416 85.95505618 82.02247191 85.39325843] is 83.16740945326721\n",
      "For learning rate = 0.004 and tress = 1000 the mean of scores [80.44692737 82.02247191 86.51685393 81.46067416 85.39325843] is 83.16803716025359\n",
      "For learning rate = 0.005 and tress = 1000 the mean of scores [81.00558659 82.58426966 85.95505618 79.7752809  85.39325843] is 82.94269035214361\n",
      "For learning rate = 0.006 and tress = 1000 the mean of scores [79.88826816 82.58426966 87.07865169 79.21348315 84.83146067] is 82.71922666499277\n",
      "For learning rate = 0.007 and tress = 1000 the mean of scores [81.00558659 81.46067416 86.51685393 79.7752809  84.83146067] is 82.71797125102003\n",
      "For learning rate = 0.003 and tress = 1250 the mean of scores [80.44692737 81.46067416 86.51685393 81.46067416 85.39325843] is 83.0556776096918\n",
      "For learning rate = 0.004 and tress = 1250 the mean of scores [80.44692737 82.58426966 86.51685393 79.7752809  85.39325843] is 82.94331805913\n",
      "For learning rate = 0.005 and tress = 1250 the mean of scores [81.00558659 82.58426966 85.95505618 79.21348315 85.39325843] is 82.83033080158182\n",
      "For learning rate = 0.006 and tress = 1250 the mean of scores [79.88826816 81.46067416 87.07865169 79.7752809  84.26966292] is 82.49450756386918\n",
      "For learning rate = 0.007 and tress = 1250 the mean of scores [79.88826816 81.46067416 87.07865169 81.46067416 85.39325843] is 83.05630531667818\n",
      "For learning rate = 0.003 and tress = 1500 the mean of scores [80.44692737 82.02247191 86.51685393 80.33707865 85.39325843] is 82.94331805913\n",
      "For learning rate = 0.004 and tress = 1500 the mean of scores [79.88826816 82.58426966 86.51685393 79.21348315 85.39325843] is 82.71922666499277\n",
      "For learning rate = 0.005 and tress = 1500 the mean of scores [81.56424581 81.46067416 87.07865169 81.46067416 84.83146067] is 83.27914129684264\n",
      "For learning rate = 0.006 and tress = 1500 the mean of scores [79.88826816 81.46067416 87.07865169 81.46067416 85.39325843] is 83.05630531667818\n",
      "For learning rate = 0.007 and tress = 1500 the mean of scores [80.44692737 81.46067416 86.51685393 80.8988764  85.39325843] is 82.94331805913\n",
      "For learning rate = 0.003 and tress = 1750 the mean of scores [81.00558659 82.58426966 85.95505618 79.7752809  85.95505618] is 83.05504990270542\n",
      "For learning rate = 0.004 and tress = 1750 the mean of scores [80.44692737 81.46067416 87.07865169 79.21348315 85.39325843] is 82.7185989580064\n",
      "For learning rate = 0.005 and tress = 1750 the mean of scores [81.00558659 81.46067416 87.07865169 81.46067416 85.95505618] is 83.39212855439082\n",
      "For learning rate = 0.006 and tress = 1750 the mean of scores [79.88826816 81.46067416 86.51685393 80.8988764  85.39325843] is 82.83158621555457\n",
      "For learning rate = 0.007 and tress = 1750 the mean of scores [80.44692737 81.46067416 85.39325843 80.33707865 84.83146067] is 82.4938798568828\n",
      "For learning rate = 0.003 and tress = 1775 the mean of scores [80.44692737 82.58426966 85.95505618 79.7752809  85.95505618] is 82.94331805913001\n",
      "For learning rate = 0.004 and tress = 1775 the mean of scores [79.88826816 81.46067416 87.07865169 79.21348315 85.39325843] is 82.60686711443097\n",
      "For learning rate = 0.005 and tress = 1775 the mean of scores [81.00558659 81.46067416 87.07865169 82.02247191 85.95505618] is 83.50448810495261\n",
      "For learning rate = 0.006 and tress = 1775 the mean of scores [80.44692737 81.46067416 86.51685393 80.8988764  85.39325843] is 82.94331805913\n",
      "For learning rate = 0.007 and tress = 1775 the mean of scores [80.44692737 81.46067416 85.39325843 80.33707865 84.83146067] is 82.4938798568828\n",
      "For learning rate = 0.003 and tress = 1800 the mean of scores [80.44692737 82.58426966 85.95505618 79.7752809  85.95505618] is 82.94331805913001\n",
      "For learning rate = 0.004 and tress = 1800 the mean of scores [79.88826816 81.46067416 87.07865169 79.7752809  85.39325843] is 82.71922666499277\n",
      "For learning rate = 0.005 and tress = 1800 the mean of scores [81.00558659 81.46067416 87.07865169 82.02247191 85.95505618] is 83.50448810495261\n",
      "For learning rate = 0.006 and tress = 1800 the mean of scores [81.00558659 81.46067416 86.51685393 80.8988764  85.39325843] is 83.0550499027054\n",
      "For learning rate = 0.007 and tress = 1800 the mean of scores [80.44692737 81.46067416 85.39325843 80.33707865 84.83146067] is 82.4938798568828\n",
      "For learning rate = 0.003 and tress = 1825 the mean of scores [80.44692737 82.58426966 85.95505618 79.7752809  85.95505618] is 82.94331805913001\n",
      "For learning rate = 0.004 and tress = 1825 the mean of scores [79.88826816 81.46067416 87.07865169 79.7752809  85.39325843] is 82.71922666499277\n",
      "For learning rate = 0.005 and tress = 1825 the mean of scores [81.00558659 81.46067416 87.07865169 82.02247191 85.95505618] is 83.50448810495261\n",
      "For learning rate = 0.006 and tress = 1825 the mean of scores [80.44692737 81.46067416 86.51685393 80.8988764  84.83146067] is 82.8309585085682\n",
      "For learning rate = 0.007 and tress = 1825 the mean of scores [80.44692737 81.46067416 85.39325843 80.33707865 84.26966292] is 82.381520306321\n",
      "For learning rate = 0.003 and tress = 1850 the mean of scores [80.44692737 82.58426966 85.95505618 79.7752809  85.95505618] is 82.94331805913001\n",
      "For learning rate = 0.004 and tress = 1850 the mean of scores [79.88826816 81.46067416 87.07865169 80.33707865 85.39325843] is 82.83158621555457\n",
      "For learning rate = 0.005 and tress = 1850 the mean of scores [81.56424581 81.46067416 87.07865169 82.02247191 85.39325843] is 83.50386039796624\n",
      "For learning rate = 0.006 and tress = 1850 the mean of scores [80.44692737 81.46067416 86.51685393 80.8988764  84.83146067] is 82.8309585085682\n",
      "For learning rate = 0.007 and tress = 1850 the mean of scores [80.44692737 81.46067416 85.95505618 80.33707865 84.26966292] is 82.4938798568828\n",
      "For learning rate = 0.003 and tress = 2000 the mean of scores [80.44692737 82.58426966 85.95505618 79.21348315 85.39325843] is 82.7185989580064\n",
      "For learning rate = 0.004 and tress = 2000 the mean of scores [79.88826816 81.46067416 87.07865169 82.58426966 84.83146067] is 83.16866486723997\n",
      "For learning rate = 0.005 and tress = 2000 the mean of scores [81.56424581 81.46067416 87.07865169 82.02247191 85.39325843] is 83.50386039796624\n",
      "For learning rate = 0.006 and tress = 2000 the mean of scores [81.00558659 80.8988764  86.51685393 80.8988764  84.26966292] is 82.71797125102002\n",
      "For learning rate = 0.007 and tress = 2000 the mean of scores [81.00558659 81.46067416 85.95505618 80.33707865 83.14606742] is 82.38089259933463\n"
     ]
    }
   ],
   "source": [
    "sample_space_a=[100,300,500,750,900,1000,1250,1500,1750,1775,1800,1825,1850,2000]\n",
    "sample_space_b=[0.003,0.004,0.005,0.006,0.007]\n",
    "results = {}\n",
    "i=1\n",
    "\n",
    "for var1 in sample_space_a:\n",
    "    for var2 in sample_space_b:\n",
    "        model_dummy =XGBClassifier(n_estimators=var1,learning_rate=var2,n_jobs=4,random_state=21)\n",
    "        pip_dummy = Pipeline(steps=[('model_dummy', model_dummy)])\n",
    "        scores=100*cross_val_score(pip_dummy,X,y,cv=5,scoring='accuracy')\n",
    "        results[i] = scores.mean()\n",
    "        i=i+1\n",
    "        print(\"For learning rate = {} and tress = {} the mean of scores {} is {}\".format(var2,var1,scores,scores.mean()))"
   ]
  },
  {
   "cell_type": "code",
   "execution_count": 12,
   "metadata": {},
   "outputs": [
    {
     "data": {
      "image/png": "[encoded data removed]",
      "text/plain": [
       "<Figure size 432x288 with 1 Axes>"
      ]
     },
     "metadata": {
      "needs_background": "light"
     },
     "output_type": "display_data"
    }
   ],
   "source": [
    "import matplotlib.pyplot as plt\n",
    "%matplotlib inline\n",
    "\n",
    "plt.plot(list(results.keys()), list(results.values()))\n",
    "plt.show()"
   ]
  },
  {
   "cell_type": "code",
   "execution_count": 13,
   "metadata": {},
   "outputs": [
    {
     "name": "stdout",
     "output_type": "stream",
     "text": [
      "Your submission was successfully saved!\n"
     ]
    }
   ],
   "source": [
    "model = XGBClassifier(n_estimators=1825,learning_rate=0.005,n_jobs=4,random_state=21)\n",
    "\n",
    "pip = Pipeline(steps=[('model',model)])\n",
    "pip.fit(X, y)\n",
    "predic = pip.predict(X_test)\n",
    "\n",
    "\n",
    "output = pd.DataFrame({'PassengerId': test_data.PassengerId, 'Survived': predic})\n",
    "output.to_csv('my_submission.csv', index=False)\n",
    "print(\"Your submission was successfully saved!\")"
   ]
  },
  {
   "cell_type": "code",
   "execution_count": null,
   "metadata": {},
   "outputs": [],
   "source": []
  },
  {
   "cell_type": "code",
   "execution_count": null,
   "metadata": {},
   "outputs": [],
   "source": []
  }
 ],
 "metadata": {
  "kernelspec": {
   "display_name": "Python 3",
   "language": "python",
   "name": "python3"
  },
  "language_info": {
   "codemirror_mode": {
    "name": "ipython",
    "version": 3
   },
   "file_extension": ".py",
   "mimetype": "text/x-python",
   "name": "python",
   "nbconvert_exporter": "python",
   "pygments_lexer": "ipython3",
   "version": "3.7.6"
  }
 },
 "nbformat": 4,
 "nbformat_minor": 4
}
